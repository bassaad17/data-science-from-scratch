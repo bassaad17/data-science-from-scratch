{
 "cells": [
  {
   "cell_type": "code",
   "execution_count": 1,
   "metadata": {},
   "outputs": [],
   "source": [
    "# conda env: dsfs\n",
    "# python 3.6.13"
   ]
  },
  {
   "cell_type": "code",
   "execution_count": null,
   "metadata": {},
   "outputs": [],
   "source": [
    "# chapter 1: introduction\n",
    "# paperbook page 3"
   ]
  },
  {
   "cell_type": "code",
   "execution_count": 2,
   "metadata": {},
   "outputs": [],
   "source": [
    "users = [\n",
    "    {\"id\": 0, \"name\": 'Hero'},\n",
    "    {\"id\": 1, \"name\": 'Dunn'},\n",
    "    {\"id\": 2, \"name\": 'Sue'},\n",
    "    {\"id\": 3, \"name\": 'Chi'},\n",
    "    {\"id\": 4, \"name\": 'Thor'},\n",
    "    {\"id\": 5, \"name\": 'Clive'},\n",
    "    {\"id\": 6, \"name\": 'Hicks'},\n",
    "    {\"id\": 7, \"name\": 'Devin'},\n",
    "    {\"id\": 8, \"name\": 'Kate'},\n",
    "    {\"id\": 9, \"name\": 'Klein'},\n",
    "]"
   ]
  },
  {
   "cell_type": "code",
   "execution_count": 6,
   "metadata": {},
   "outputs": [],
   "source": [
    "friendship_pairs = [(0,1), (0,2), (1,2), (1,3), (2,3), (3,4),\n",
    "                    (4,5), (5,6), (5,7), (6,8), (7,8), (8,9)]"
   ]
  },
  {
   "cell_type": "code",
   "execution_count": 16,
   "metadata": {},
   "outputs": [
    {
     "name": "stdout",
     "output_type": "stream",
     "text": [
      "0 1\n",
      "0 2\n",
      "1 2\n",
      "1 3\n",
      "2 3\n",
      "3 4\n",
      "4 5\n",
      "5 6\n",
      "5 7\n",
      "6 8\n",
      "7 8\n",
      "8 9\n"
     ]
    }
   ],
   "source": [
    "# Initialize the dict with an empty list for each user id\n",
    "friendships = {user[\"id\"]: [] for user in users}\n",
    "\n",
    "# And loop over the friendship pairs to populate it\n",
    "for (i, j) in friendship_pairs:\n",
    "    print(i,j)\n",
    "    # friendships[i].append(j)\n",
    "    # friendships[j].append(i)"
   ]
  },
  {
   "cell_type": "code",
   "execution_count": null,
   "metadata": {},
   "outputs": [],
   "source": []
  }
 ],
 "metadata": {
  "interpreter": {
   "hash": "d7ea65bdd67c1482362d5a1b48f76740c8ffd909707353f09f490ca5ae105e6a"
  },
  "kernelspec": {
   "display_name": "Python 3.6.13 ('dsfs')",
   "language": "python",
   "name": "python3"
  },
  "language_info": {
   "codemirror_mode": {
    "name": "ipython",
    "version": 3
   },
   "file_extension": ".py",
   "mimetype": "text/x-python",
   "name": "python",
   "nbconvert_exporter": "python",
   "pygments_lexer": "ipython3",
   "version": "3.6.13"
  },
  "orig_nbformat": 4
 },
 "nbformat": 4,
 "nbformat_minor": 2
}
